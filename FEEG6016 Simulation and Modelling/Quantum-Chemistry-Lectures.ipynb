{
 "cells": [
  {
   "cell_type": "markdown",
   "metadata": {},
   "source": [
    "# Quantum Chemistry\n",
    "\n",
    "#### Chris-Kriton Skylaris"
   ]
  },
  {
   "cell_type": "markdown",
   "metadata": {},
   "source": [
    "## Outline\n",
    "\n",
    "* Schrödinger equation\n",
    "* Observable properties\n",
    "* Hamiltonian operators for molecules\n",
    "* Molecular orbitals and many-electron wavefunctions\n",
    "* Energy of the many-electron wavefunction\n",
    "* Molecular integrals\n",
    "* Hartree-Fock"
   ]
  },
  {
   "cell_type": "markdown",
   "metadata": {},
   "source": [
    "# Schrödinger's equation and Dirac's bra-ket notation"
   ]
  },
  {
   "cell_type": "markdown",
   "metadata": {},
   "source": [
    "Key breakthrough: Schrödinger's equation\n",
    "\n",
    "\\begin{equation}\n",
    "  \\hat{H} \\Psi = E \\Psi.\n",
    "\\end{equation}\n",
    "\n",
    "Examples of systems that can be solved exactly:\n",
    "\n",
    "* Particle in a box: $E_n = \\frac{n^2 h^2}{8 m l^2}$\n",
    "* Harmonic oscillator: $E_n = \\left( n + \\frac{1}{2} \\right) h \\nu$\n",
    "* Hydrogen atom: $E_n = -\\frac{Z^2}{n^2} \\left( \\frac{e^2}{2 a} \\right)$.\n",
    "\n",
    "All are quantized."
   ]
  },
  {
   "cell_type": "markdown",
   "metadata": {},
   "source": [
    "The Schrödinger equation splits into two parts: the kinetic energy piece $\\hat{T}$ and the potential energy piece $\\hat{V}$, giving\n",
    "\n",
    "\\begin{equation}\n",
    "  \\left( \\hat{T} + \\hat{V} \\right) \\Psi = E \\Psi.\n",
    "\\end{equation}\n",
    "\n",
    "All are operators, taking one function (the wavefunction here) to another function.\n",
    "\n",
    "The wavefunction is a function of the $3N$ coordinates, where there are $N$ particles. This will be written as\n",
    "\n",
    "\\begin{equation}\n",
    "  \\Psi(x_1, y_1, z_1, x_2, y_2, z_2, \\dots, x_N, y_N, z_N) = \\Psi({\\bf r}_1, {\\bf r}_2, \\dots, {\\bf r}_N).\n",
    "\\end{equation}\n",
    "\n",
    "For a hydrogen molecule (two hydrogen nuclei connected by a bond), we consider the nuclei as *one particle each*, with a single coordinate. For the purposes of counting for now, we note that we have two H nuclei, plus two electrons, for four particles, hence 12 coordinates.\n",
    "\n",
    "For a benzene molecule (six carbon atoms connected by various bonds, each connected to a hydrogen atom) we have six carbon nuclei and six hydrogen nuclei, and each carbon atom has six electrons (for 36 electrons), and each hydrogen atom has six electrons. This gives 54 particles for 162 coordinates."
   ]
  },
  {
   "cell_type": "markdown",
   "metadata": {},
   "source": [
    "Observables or expectation values correspond to experimental measurements. According to quantum theory we compute the outcome of any measurement by \"averaging\" the appropriate operator as\n",
    "\n",
    "\\begin{equation}\n",
    "  < x > = \\frac{\\int_{-\\infty}^{\\infty} \\Psi^*(x) \\hat{x} \\Psi(x) \\, \\text{d}x}{\\int_{-\\infty}^{\\infty} \\Psi^*(x) \\Psi(x) \\, \\text{d}x}.\n",
    "\\end{equation}\n",
    "\n",
    "This particular example gives the expectation value, or average value, of the position along the $x$-axis, where the operator for position $\\hat{x}$ is the multiplicative operator $\\hat{x} \\Psi(x) = x \\Psi(x)$."
   ]
  },
  {
   "cell_type": "markdown",
   "metadata": {},
   "source": [
    "## Bra-ket notation\n",
    "\n",
    "Write\n",
    "\n",
    "\\begin{equation}\n",
    "  \\int \\Psi^*({\\bf x}) \\, \\hat{C} \\, \\Phi({\\bf x}) \\, \\text{d}{\\bf x} \\longrightarrow \\langle \\Psi | \\hat{C} | \\Phi \\rangle.\n",
    "\\end{equation}\n",
    "\n",
    "The \"bra\" is\n",
    "\n",
    "\\begin{equation}\n",
    "  \\langle \\Psi | \\equiv \\int \\text{d}{\\bf x} \\, \\Psi^*({\\bf x}).\n",
    "\\end{equation}\n",
    "\n",
    "The \"ket\" is\n",
    "\n",
    "\\begin{equation}\n",
    "  | \\Phi \\rangle \\equiv \\Phi({\\bf x}).\n",
    "\\end{equation}\n",
    "\n",
    "The operator doesn't appear explicitly; it's the $\\hat{C}$ in \"bra\"$\\hat{C}$\"ket\".\n",
    "\n",
    "As an example, the Schrödinger equation is written $\\hat{H} | \\Psi \\rangle = E | \\Psi \\rangle$."
   ]
  },
  {
   "cell_type": "markdown",
   "metadata": {},
   "source": [
    "The key result of the examples is that\n",
    "\n",
    "\\begin{equation}\n",
    "  E = \\frac{\\langle \\Psi | \\hat{H} | \\Psi \\rangle}{\\langle \\Psi | \\Psi \\rangle}.\n",
    "\\end{equation}"
   ]
  },
  {
   "cell_type": "markdown",
   "metadata": {},
   "source": [
    "# Hamiltonian operators for molecules"
   ]
  },
  {
   "cell_type": "markdown",
   "metadata": {},
   "source": [
    "Most operators are obvious: take the classical expression directly (eg potential $V(x)$ has operator $V(x)$). However, momentum is different:\n",
    "\n",
    "\\begin{equation}\n",
    "  m v_x \\longrightarrow - i \\hbar \\frac{\\text{d}}{\\text{d}x}\n",
    "\\end{equation}"
   ]
  },
  {
   "cell_type": "markdown",
   "metadata": {},
   "source": [
    "Now, the Hamiltonian is the sum of the kinetic and potential energy operators. Kinetic energy is\n",
    "\n",
    "\\begin{align}\n",
    "  T &= \\frac{1}{2} m v_x^2 \\\\ &= \\frac{(m v_x)^2}{2 m} \\\\ &= \\frac{1}{2m} p_x^2.\n",
    "\\end{align}\n",
    "\n",
    "Hence the previous result gives\n",
    "\n",
    "\\begin{align}\n",
    "  \\hat{T} &= \\frac{1}{2m} \\hat{p}_x^2 \\\\ &= \\frac{1}{2m} \\hat{p}_x \\hat{p}_x \\\\ &= \\frac{1}{2m} \\left( -i \\hbar \\frac{\\text{d}}{\\text{d}x} \\right) \\left( -i \\hbar \\frac{\\text{d}}{\\text{d}x} \\right) \\\\ & = -\\frac{\\hbar^2}{2m} \\frac{\\text{d}^2}{\\text{d}x^2}.\n",
    "\\end{align}"
   ]
  },
  {
   "cell_type": "markdown",
   "metadata": {},
   "source": [
    "Hence the Hamiltonian operator is\n",
    "\n",
    "\\begin{equation}\n",
    "  \\hat{H} = -\\frac{\\hbar^2}{2m} \\frac{\\text{d}^2}{\\text{d}x^2} + V(x).\n",
    "\\end{equation}"
   ]
  },
  {
   "cell_type": "markdown",
   "metadata": {},
   "source": [
    "Simplest case is a hydrogen atom. The location of the nucleus is given by ${\\bf R}$. The location of the electron is given by ${\\bf r}$. The vector connecting the nucleus to the electron is therefore ${\\bf r} - {\\bf R}$.\n",
    "\n",
    "We remember that the force between two charged particles separated by distance $r$ is given by Coulomb's Law $F = q_1 q_2 / r^2$ and has potential $v({\\bf r}) = 1 / (4 \\pi \\epsilon_0) q_1 q_2 / |{\\bf r}|$.\n",
    "\n",
    "The Hamiltonian operator for this single-atom system is\n",
    "\n",
    "\\begin{equation}\n",
    "  \\hat{H} = -\\frac{\\hbar^2}{2M} \\nabla^2_{\\bf R} -\\frac{\\hbar^2}{2m} \\nabla^2_{\\bf r}  - \\frac{1}{4 \\pi \\epsilon_0} \\frac{e^2}{|{\\bf r} - {\\bf R}|},\n",
    "\\end{equation}\n",
    "\n",
    "where $m$ is the mass of the electron and $M$ the mass of the nucleus."
   ]
  },
  {
   "cell_type": "markdown",
   "metadata": {},
   "source": [
    "### Atomic units\n",
    "\n",
    "Choose units so that $\\hbar^2 / m_e = 1 = e^2 / (4 \\pi \\epsilon_0)$. This simplifies the Hamiltonian to\n",
    "\n",
    "\\begin{equation}\n",
    "  \\hat{H} = -\\frac{1}{2M} \\nabla^2_{\\bf R} -\\frac{1}{2} \\nabla^2_{\\bf r}  - \\frac{1}{|{\\bf r} - {\\bf R}|},\n",
    "\\end{equation}\n",
    "\n",
    "where $M$ is now written in terms of electron masses, and energies are now in *Hartrees*."
   ]
  },
  {
   "cell_type": "markdown",
   "metadata": {},
   "source": [
    "### Hamiltonian for Helium\n",
    "\n",
    "\n",
    "\\begin{equation}\n",
    "  \\hat{H} = -\\frac{1}{2M} \\nabla^2_{\\bf R} -\\frac{1}{2} \\nabla^2_{{\\bf r}_1} -\\frac{1}{2} \\nabla^2_{{\\bf r}_2}  - \\frac{2}{|{\\bf r}_1 - {\\bf R}|} - \\frac{2}{|{\\bf r}_2 - {\\bf R}|} + \\frac{1}{|{\\bf r}_1 - {\\bf r}_2|}.\n",
    "\\end{equation}\n",
    "\n",
    "The final term is the repulsion between the two electrons. The factors of two follow as the nucleus now contains two protons, so has charge 2."
   ]
  },
  {
   "cell_type": "markdown",
   "metadata": {},
   "source": [
    "### Hamiltonian for water\n",
    "\n",
    "\n",
    "\\begin{equation}\n",
    "  \\hat{H} = -\\frac{1}{2M_O} \\nabla^2_{{\\bf R}_O}-\\frac{1}{2M_{H_1}} \\nabla^2_{{\\bf R}_{H_1}}-\\frac{1}{2M_{H_2}} \\nabla^2_{{\\bf R}_{H_2}} - \\sum_{i=1}^{10} \\frac{1}{2} \\nabla^2_{{\\bf r}_i} - \\sum_{i=1}^{10} \\frac{8}{|{\\bf r}_i - {\\bf R}_O|} - \\sum_{i=1}^{10} \\frac{1}{|{\\bf r}_i - {\\bf R}_{H_1}|} - \\sum_{i=1}^{10} \\frac{1}{|{\\bf r}_i - {\\bf R}_{H_2}|} + \\sum_{i=1}^{10} \\sum_{j=i+1}^{10} \\frac{1}{|{\\bf r}_i - {\\bf r}_j|} + \\sum_{I=1}^{3} \\sum_{J=I+1}^{3} \\frac{Z_I Z_J}{|{\\bf R}_I - {\\bf R}_J|} .\n",
    "\\end{equation}\n",
    "\n",
    "Notation is such that ${\\bf R}_1 = {\\bf R}_O$, ${\\bf R}_2 = {\\bf R}_{H_1}$, and so on. Note how the double sums only count each term once."
   ]
  },
  {
   "cell_type": "markdown",
   "metadata": {},
   "source": [
    "## Separating electronic from nuclear coordinates\n",
    "\n",
    "Nuclei are much heavier than electrons ($m_p \\approx 1800 m_e$), so it's a good approximation to assume that the electrons move much faster than nuclei: the electrons *instantaneously* equilibriate to the locations of the nuclei.\n",
    "\n",
    "This is the core of the *Born-Oppenheimer* approximation: Solve Schrödinger's equation only in the electronic coordinates, with the nuclear coordinates held fixed. We then split the full Hamiltonian into the nuclear piece and the electronic piece $\\hat{H}_{\\text{elec}}$, and only solve for\n",
    "\n",
    "\\begin{align}\n",
    "  \\hat{H}_{\\text{elec}} \\Phi_{\\text{elec}} &= E_{\\text{elec}} \\Phi_{\\text{elec}} \\\\\n",
    "  \\Phi_{\\text{elec}} &= \\Phi_{\\text{elec}} \\left( \\left\\{ {\\bf r}_i \\right\\}; \\left\\{ {\\bf R}_I \\right\\} \\right) \\\\\n",
    "  E_{\\text{elec}} &= E_{\\text{elec}} \\left( \\left\\{ {\\bf R}_I \\right\\} \\right)\n",
    "\\end{align}\n",
    "\n",
    "That is, the solutions that we get depend *parametrically* on the coordinates of the nuclei."
   ]
  },
  {
   "cell_type": "markdown",
   "metadata": {},
   "source": [
    "For the water molecule, the Born-Oppenheimer approximation gives\n",
    "\n",
    "\\begin{equation}\n",
    "  \\hat{H}_{\\text{elec}} = - \\sum_{i=1}^{10} \\frac{1}{2} \\nabla^2_{{\\bf r}_i} - \\sum_{i=1}^{10} \\frac{8}{|{\\bf r}_i - {\\bf R}_O|} - \\sum_{i=1}^{10} \\frac{1}{|{\\bf r}_i - {\\bf R}_{H_1}|} - \\sum_{i=1}^{10} \\frac{1}{|{\\bf r}_i - {\\bf R}_{H_2}|} + \\sum_{i=1}^{10} \\sum_{j=i+1}^{10} \\frac{1}{|{\\bf r}_i - {\\bf r}_j|} + \\sum_{I=1}^{3} \\sum_{J=I+1}^{3} \\frac{Z_I Z_J}{|{\\bf R}_I - {\\bf R}_J|}.\n",
    "\\end{equation}\n",
    "\n",
    "That is, terms given by varying the location of the nuclei vanish. In addition, the final nuclear interaction term becomes constant."
   ]
  },
  {
   "cell_type": "markdown",
   "metadata": {},
   "source": [
    "# Slater determinant wavefunctions\n",
    "\n",
    "Now the approximations get more serious.\n",
    "\n",
    "A wavefunction for a single electron is called a *molecular orbital* (MO). MOs with spatial *and* spin coordinates are called *spin orbitals* and are products of a spatial orbital and a spin function. There are only two kinds of spin function: \"up\" ($\\alpha$) and \"down\" ($\\beta$). We write\n",
    "\n",
    "\\begin{align}\n",
    "  \\chi^{\\uparrow}({\\bf x}) &= \\psi({\\bf r}) \\alpha(\\omega), \\\\\n",
    "  \\chi^{\\downarrow}({\\bf x}) &= \\psi({\\bf r}) \\beta(\\omega)\n",
    "\\end{align}"
   ]
  },
  {
   "cell_type": "markdown",
   "metadata": {},
   "source": [
    "In order to ensure that our (approximate) full wavefunction has the right symmetries, but is made out of single electron MOs, we use the *Slater determinant*, eg\n",
    "\n",
    "\\begin{equation}\n",
    "  \\Psi({\\bf x}_1, {\\bf x}_2) = \\begin{vmatrix} \\chi_1({\\bf x}_1) & \\chi_2({\\bf x}_1) \\\\ \\chi_1({\\bf x}_2) & \\chi_2({\\bf x}_2) \\end{vmatrix}\n",
    "\\end{equation}\n",
    "\n",
    "This can be extended to an arbitrary number of MOs by increasing the number of terms in the determinant. However, it should include a $N!^{-1/2}$ normalization so that $\\langle \\Psi_{\\text{SD}} | \\Psi_{\\text{SD}} \\rangle = 1$.\n",
    "\n",
    "You will often see the representation\n",
    "\n",
    "\\begin{equation}\n",
    "  \\Psi_{\\text{SD}}({\\bf x}_1, {\\bf x}_2, \\dots {\\bf x}_N) = | \\chi_1({\\bf x}_1) \\chi_2({\\bf x}_2) \\dots \\chi_N({\\bf x}_N) \\rangle\n",
    "\\end{equation}\n",
    "\n",
    "The spin orbitals are always orthonormal $\\langle \\chi_i | \\chi_j \\rangle = \\delta_{ij}$."
   ]
  },
  {
   "cell_type": "markdown",
   "metadata": {},
   "source": [
    "## Pauli principle\n",
    "\n",
    "A determinant is zero if two or more of its rows or columns are identical: therefore a spin orbital can be included **only once** in a Slater determinant (otherwise the wavefunction is zero everywhere, which isn't physically acceptable). This is the Pauli exclusion principle successfully encoded."
   ]
  },
  {
   "cell_type": "markdown",
   "metadata": {},
   "source": [
    "# Electronic energy of a Slater determinant\n",
    "\n",
    "The electronic energy of a single SD is\n",
    "\n",
    "\\begin{align}\n",
    "  E_{\\text{SD}} &= \\frac{ \\langle \\Psi_{\\text{SD}} | \\hat{H}_{\\text{elec}} | \\Psi_{\\text{SD}} \\rangle }{ \\langle \\Psi_{\\text{SD}}  | \\Psi_{\\text{SD}} \\rangle } \\\\\n",
    "  & = \\langle \\Psi_{\\text{SD}} | \\hat{H}_{\\text{elec}} | \\Psi_{\\text{SD}} \\rangle\n",
    "\\end{align}\n",
    "\n",
    "with\n",
    "\n",
    "\\begin{equation}\n",
    "  \\hat{H}_{\\text{elec}} = - \\sum_{i=1}^{N_{\\text{elec}}} \\frac{1}{2} \\nabla_i^2 - \\sum_{I=1}^{N_{\\text{nuclei}}} \\sum_{i=1}^{N_{\\text{elec}}} \\frac{Z_I}{|{\\bf r}_i - {\\bf R}_I|} + \\sum_{i=1}^{N_{\\text{elec}}} \\sum_{j=i+1}^{N_{\\text{elec}}} \\frac{1}{|{\\bf r}_i - {\\bf r}_j|}.\n",
    "\\end{equation}\n",
    "\n",
    "After manipulations we find\n",
    "\n",
    "\\begin{equation}\n",
    "  E_{\\text{kin}} = \\sum_i \\langle \\chi_i | - \\nabla_i^2 | \\chi_i \\rangle\n",
    "\\end{equation}\n",
    "\n",
    "and the nuclear energies give\n",
    "\n",
    "\\begin{equation}\n",
    "  E_{e-n} = \\sum_i \\langle \\chi_i | \\sum_I \\frac{-Z_I}{|{\\bf r}_i - {\\bf R}_I|} | \\chi_i \\rangle\n",
    "\\end{equation}\n",
    "\n",
    "The nuclear attraction potential for each electron is\n",
    "\n",
    "\\begin{equation}\n",
    "  \\hat{v}_{\\text{ext}} = \n",
    "\\end{equation}\n",
    "\n",
    "The *difficult* term is the electron-electron repulsion energy, or the two-electron integrals\n",
    "\n",
    "\\begin{equation}\n",
    "  E_{e-e} = \\frac{1}{2} \\sum_i \\sum_j \\left[ \\int\\int \\dots - \\int\\int \\dots \\right]\n",
    "\\end{equation}\n",
    "\n",
    "where $r_{12} = |{\\bf r}_1 - {\\bf r}_2|$.\n",
    "\n",
    "Remember that here $1, 2$ are dummy indices for the integration, not the first and second electrons.\n",
    "\n",
    "The computational cost of computing these integrals goes as the *fourth* power of the number of electrons."
   ]
  },
  {
   "cell_type": "markdown",
   "metadata": {},
   "source": [
    "The part of the energy that doesn't include the two integral terms is written $\\sum_i \\langle \\chi_i | \\hat{h} | \\chi_i \\rangle$, where $\\hat{h} = - \\frac{1}{2} \\nabla^2 + \\sum_I \\frac{-Z_I}{|{\\bf r}_i - {\\bf R}_I|}$ is the *core Hamiltonian*, which neglects the electron-electron coupling."
   ]
  },
  {
   "cell_type": "markdown",
   "metadata": {},
   "source": [
    "The spin terms can be integrated out, so that the sums over each term can become $2 \\sum_{i=1}^{N_{\\text{elec}/2}}$ (integer division). The energy of the Slater determinant then breaks down into the core Hamiltonian $h_i$, the Coulomb integral $J_{ij}$ which is symmetric in the coordinates ${\\bf r}_{1,2}$, and the Exchange integral $K_{ij}$, which is not (and doesn't have a physical interpretation)."
   ]
  },
  {
   "cell_type": "markdown",
   "metadata": {},
   "source": [
    "In summary, \n",
    "\n",
    "\\begin{equation}\n",
    "  E_{\\text{SD}} = 2 \\sum_{i=1}^{N_{\\text{elec}}/2} h_i + \\sum_{i=1}^{N_{\\text{elec}}/2} \\sum_{j=1}^{N_{\\text{elec}}/2} ( 2 J_{ij} - K_{ij}).\n",
    "\\end{equation}"
   ]
  },
  {
   "cell_type": "markdown",
   "metadata": {},
   "source": [
    "# Hartree-Fock method"
   ]
  },
  {
   "cell_type": "markdown",
   "metadata": {},
   "source": [
    "Assume we have two Slater determinants for a molecule, $\\Psi^{A,B}_{\\text{SD}}$, with energies $E^{A,B}_{\\text{SD}} = \\langle \\Psi^{A,B}_{\\text{SD}} | \\hat{H} | \\Psi^{A,B}_{\\text{SD}} \\rangle$. Then if $E^A_{\\text{SD}} > E^B_{\\text{SD}}$ then, according to teh variation principle, we take $\\Psi^B$ to be a better approximation to the wavefunction.\n",
    "\n",
    "By performing functional variation we can show that the minimal value occurs when\n",
    "\n",
    "\\begin{equation}\n",
    "  \\hat{f} \\psi_i({\\bf r}) = \\epsilon_i \\psi_i({\\bf r})\n",
    "\\end{equation}\n",
    "\n",
    "This is an eigenfunction equation involving the *Fock* operator $\\hat{f}$ which is made of three pieces,\n",
    "\n",
    "\\begin{equation}\n",
    "  \\hat{f} = \\hat{h} + \\sum_i ( 2 \\hat{J}_i - \\hat{K}_i )\n",
    "\\end{equation}\n",
    "\n",
    "where $h, J, K$ correspond to the core Hamiltonian, Coulomb and Exchange operators."
   ]
  },
  {
   "cell_type": "markdown",
   "metadata": {},
   "source": [
    "The eigenfunctions of the Fock operator are the optimal MOs, and the eigenvalues their associated energies."
   ]
  },
  {
   "cell_type": "markdown",
   "metadata": {},
   "source": [
    "An example: the Hartree-Fock eigenvalue equation for a molecule with 6 electrons is\n",
    "\n",
    "\\begin{equation}\n",
    "  \\left[ \\hat{h} + \\sum_{i=1}^3 \\left( 2 \\hat{J}_i - \\hat{K}_i \\right) \\right] \\Psi_j({\\bf r}) = \\epsilon_j \\Psi_j({\\bf r})\n",
    "\\end{equation}\n",
    "\n",
    "The index $j$ can be anything. The Fock operator is made of the first three orbitals $\\Psi_{1,2,3}$."
   ]
  },
  {
   "cell_type": "markdown",
   "metadata": {},
   "source": [
    "So we solve iteratively using the *Self-Consistent Field* procedure. First guess the MOs $\\psi_i$. Construct the Fock operator and solve the eigenfunction problem to find a new set of MOs. If the new MOs are close enough to the old MOs the procedure has converged; otherwise, construct the Fock operator and repeat."
   ]
  }
 ],
 "metadata": {
  "kernelspec": {
   "display_name": "Python 3",
   "language": "python",
   "name": "python3"
  },
  "language_info": {
   "codemirror_mode": {
    "name": "ipython",
    "version": 3
   },
   "file_extension": ".py",
   "mimetype": "text/x-python",
   "name": "python",
   "nbconvert_exporter": "python",
   "pygments_lexer": "ipython3",
   "version": "3.4.3"
  }
 },
 "nbformat": 4,
 "nbformat_minor": 0
}
