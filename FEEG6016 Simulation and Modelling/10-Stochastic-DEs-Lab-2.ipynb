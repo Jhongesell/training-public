{
 "cells": [
  {
   "cell_type": "markdown",
   "metadata": {},
   "source": [
    "# Stochastic Differential Equations: Lab 2"
   ]
  },
  {
   "cell_type": "code",
   "execution_count": 1,
   "metadata": {
    "collapsed": false
   },
   "outputs": [
    {
     "data": {
      "text/html": [
       "<link href='http://fonts.googleapis.com/css?family=Open+Sans:100,300,400,500,700,800,900,100italic,300italic,400italic,500italic,700italic,800italic,900italic' rel='stylesheet' type='text/css'>\n",
       "<link href='http://fonts.googleapis.com/css?family=Arvo:400,700,400italic' rel='stylesheet' type='text/css'>\n",
       "<link href='http://fonts.googleapis.com/css?family=PT+Mono' rel='stylesheet' type='text/css'>\n",
       "<link href='http://fonts.googleapis.com/css?family=Shadows+Into+Light' rel='stylesheet' type='text/css'>\n",
       "<link href='http://fonts.googleapis.com/css?family=Nixie+One' rel='stylesheet' type='text/css'>\n",
       "<style>\n",
       "\n",
       "@font-face {\n",
       "    font-family: \"Computer Modern\";\n",
       "    src: url('http://mirrors.ctan.org/fonts/cm-unicode/fonts/otf/cmunss.otf');\n",
       "}\n",
       "\n",
       "#notebook_panel { /* main background */\n",
       "    background: rgb(245,245,245);\n",
       "}\n",
       "\n",
       "div.cell { /* set cell width */\n",
       "    width: 1000px;\n",
       "}\n",
       "\n",
       "div #notebook { /* centre the content */\n",
       "    background: #fff; /* white background for content */\n",
       "    width: 1200px;\n",
       "    margin: auto;\n",
       "    padding-left: 0em;\n",
       "}\n",
       "\n",
       "#notebook li { /* More space between bullet points */\n",
       "margin-top:0.8em;\n",
       "}\n",
       "\n",
       "/* draw border around running cells */\n",
       "div.cell.border-box-sizing.code_cell.running { \n",
       "    border: 1px solid #111;\n",
       "}\n",
       "\n",
       "/* Put a solid color box around each cell and its output, visually linking them*/\n",
       "div.cell.code_cell {\n",
       "    background-color: rgb(256,256,256); \n",
       "    border-radius: 0px; \n",
       "    padding: 0.5em;\n",
       "    margin-left:1em;\n",
       "    margin-top: 1em;\n",
       "}\n",
       "\n",
       "div.text_cell_render{\n",
       "    font-family: 'Open Sans' sans-serif;\n",
       "    line-height: 140%;\n",
       "    font-size: 125%;\n",
       "    font-weight: 400;\n",
       "    width:900px;\n",
       "    margin-left:auto;\n",
       "    margin-right:auto;\n",
       "}\n",
       "\n",
       "\n",
       "/* Formatting for header cells */\n",
       ".text_cell_render h1 {\n",
       "    font-family: 'Arvo', serif;\n",
       "    font-style:regular;\n",
       "    font-weight: 400;    \n",
       "    font-size: 45pt;\n",
       "    line-height: 100%;\n",
       "    color: rgb(0,51,102);\n",
       "    margin-bottom: 0.5em;\n",
       "    margin-top: 0.5em;\n",
       "    display: block;\n",
       "}\t\n",
       ".text_cell_render h2 {\n",
       "    font-family: 'Arvo', serif;\n",
       "    font-weight: 400;\n",
       "    font-size: 30pt;\n",
       "    line-height: 100%;\n",
       "    color: rgb(0,51,102);\n",
       "    margin-bottom: 0.1em;\n",
       "    margin-top: 0.3em;\n",
       "    display: block;\n",
       "}\t\n",
       "\n",
       ".text_cell_render h3 {\n",
       "    font-family: 'Arvo', serif;\n",
       "    margin-top:16px;\n",
       "\tfont-size: 22pt;\n",
       "    font-weight: 600;\n",
       "    margin-bottom: 3px;\n",
       "    font-style: regular;\n",
       "    color: rgb(102,102,0);\n",
       "}\n",
       "\n",
       ".text_cell_render h4 {    /*Use this for captions*/\n",
       "    font-family: 'Arvo', serif;\n",
       "    font-size: 14pt;\n",
       "    text-align: center;\n",
       "    margin-top: 0em;\n",
       "    margin-bottom: 2em;\n",
       "    font-style: regular;\n",
       "}\n",
       "\n",
       ".text_cell_render h5 {  /*Use this for small titles*/\n",
       "    font-family: 'Arvo', sans-serif;\n",
       "    font-weight: 400;\n",
       "    font-size: 16pt;\n",
       "    color: rgb(163,0,0);\n",
       "    font-style: italic;\n",
       "    margin-bottom: .1em;\n",
       "    margin-top: 0.8em;\n",
       "    display: block;\n",
       "}\n",
       "\n",
       ".text_cell_render h6 { /*use this for copyright note*/\n",
       "    font-family: 'PT Mono', sans-serif;\n",
       "    font-weight: 300;\n",
       "    font-size: 9pt;\n",
       "    line-height: 100%;\n",
       "    color: grey;\n",
       "    margin-bottom: 1px;\n",
       "    margin-top: 1px;\n",
       "}\n",
       "\n",
       ".CodeMirror{\n",
       "        font-family: \"PT Mono\";\n",
       "        font-size: 90%;\n",
       "}\n",
       "\n",
       "</style>\n",
       "<script>\n",
       "    MathJax.Hub.Config({\n",
       "                        TeX: {\n",
       "                           extensions: [\"AMSmath.js\"],\n",
       "                           equationNumbers: { autoNumber: \"AMS\", useLabelIds: true}\n",
       "                           },\n",
       "                tex2jax: {\n",
       "                    inlineMath: [ ['$','$'], [\"\\\\(\",\"\\\\)\"] ],\n",
       "                    displayMath: [ ['$$','$$'], [\"\\\\[\",\"\\\\]\"] ]\n",
       "                },\n",
       "                displayAlign: 'center', // Change this to 'center' to center equations.\n",
       "                \"HTML-CSS\": {\n",
       "                    styles: {'.MathJax_Display': {\"margin\": 4}}\n",
       "                }\n",
       "        });\n",
       "</script>\n"
      ],
      "text/plain": [
       "<IPython.core.display.HTML object>"
      ]
     },
     "execution_count": 1,
     "metadata": {},
     "output_type": "execute_result"
    }
   ],
   "source": [
    "from IPython.core.display import HTML\n",
    "css_file = 'https://raw.githubusercontent.com/ngcm/training-public/master/ipython_notebook_styles/ngcmstyle.css'\n",
    "HTML(url=css_file)"
   ]
  },
  {
   "cell_type": "markdown",
   "metadata": {},
   "source": [
    "This background for these exercises is article of D Higham, [*An Algorithmic Introduction to Numerical Simulation of Stochastic Differential Equations*, SIAM Review 43:525-546 (2001)](http://epubs.siam.org/doi/abs/10.1137/S0036144500378302).\n",
    "Higham provides Matlab codes illustrating the basic ideas at <http://personal.strath.ac.uk/d.j.higham/algfiles.html>, which are also given in the paper."
   ]
  },
  {
   "cell_type": "code",
   "execution_count": 2,
   "metadata": {
    "collapsed": false
   },
   "outputs": [],
   "source": [
    "%matplotlib inline\n",
    "import numpy\n",
    "from matplotlib import pyplot\n",
    "from matplotlib import rcParams\n",
    "rcParams['font.family'] = 'serif'\n",
    "rcParams['font.size'] = 16\n",
    "rcParams['figure.figsize'] = (12,6)\n",
    "from scipy.integrate import quad"
   ]
  },
  {
   "cell_type": "markdown",
   "metadata": {},
   "source": [
    "## Further Stochastic integrals"
   ]
  },
  {
   "cell_type": "markdown",
   "metadata": {},
   "source": [
    "Quick recap: the key feature is the *Ito stochastic integral*\n",
    "\n",
    "\\begin{equation}\n",
    "  \\int_{t_0}^t G(t') \\, \\text{d}W(t') = \\text{mean-square-}\\lim_{n\\to +\\infty} \\left\\{ \\sum_{i=1}^n G(t_{i-1}) (W_{t_i} - W_{t_{i-1}} ) \\right\\}\n",
    "\\end{equation}\n",
    "\n",
    "where the key point for the Ito integral is that the first term in the sum is evaluated at the left end of the interval ($t_{i-1}$)."
   ]
  },
  {
   "cell_type": "markdown",
   "metadata": {},
   "source": [
    "Now we use this to write down the SDE\n",
    "\n",
    "\\begin{equation}\n",
    "  \\text{d}X_t = f(X_t) \\, \\text{d}t + g(X_t) \\, \\text{d}W_t\n",
    "\\end{equation}\n",
    "\n",
    "with formal solution\n",
    "\n",
    "\\begin{equation}\n",
    "  X_t = X_0 + \\int_0^t f(X_s) \\, \\text{d}s + \\int_0^t g(X_s) \\, \\text{d}W_s.\n",
    "\\end{equation}\n",
    "\n",
    "Using the Ito stochastic integral formula we get the Euler-Maruyama method\n",
    "\n",
    "\\begin{equation}\n",
    " X_{n+1} = X_n + \\delta t \\, f(X_n) + \\sqrt{\\delta t} \\xi_n \\, g(X_n)\n",
    "\\end{equation}\n",
    "\n",
    "by applying the integral over the region $[t_n, t_{n+1} = t_n + \\delta t]$. Here $\\delta t$ is the width of the interval and $\\xi_n$ is the normal random variable $\\xi_n \\sim N(0, 1)$."
   ]
  },
  {
   "cell_type": "markdown",
   "metadata": {},
   "source": [
    "\n",
    "### Normal chain rule\n",
    "\n",
    "If\n",
    "\n",
    "\\begin{equation}\n",
    "  \\frac{\\text{d}X}{\\text{d}t} = f(X_t)\n",
    "\\end{equation}\n",
    "\n",
    "and we want to find the differential equation satisfied by $h(X(t))$ (or $h(X_t)$), then we write\n",
    "\n",
    "\\begin{align}\n",
    "  &&\\frac{\\text{d}}{\\text{d}t} h(X_t) &= h \\left( X(t) + \\text{d}X(t) \\right) - h(X(t)) \\\\\n",
    "  &&&\\simeq h(X(t)) + \\text{d}X \\, h'(X(t)) + \\frac{1}{2} (\\text{d}X)^2 \\, h''(X(t)) + \\dots - h(X(t)) \\\\\n",
    "  &&&\\simeq f(X) h'(X) \\text{d}t + \\frac{1}{2} (f(X))^2 h''(X) (\\text{d}t)^2 + \\dots \\\\\n",
    "  \\implies && \\frac{\\text{d} h(X)}{dt} &= f(X) h'(X).\n",
    "\\end{align}\n",
    "\n",
    "### Stochastic chain rule\n",
    "\n",
    "Now run through the same steps using the equation\n",
    "\n",
    "\\begin{equation}\n",
    "  \\text{d}X = f(X)\\, \\text{d}t + g(X) \\, \\text{d}W.\n",
    "\\end{equation}\n",
    "\n",
    "We find\n",
    "\n",
    "\\begin{align}\n",
    "  && \\text{d}h &\\simeq h'(X(t))\\, \\text{d}X + \\frac{1}{2} h''(X(t)) (\\text{d}X)^2 + \\dots, \\\\\n",
    "  &&&\\simeq h'(X) f(X)\\, \\text{d}t + h'(X) g(X) ', \\text{d}W + \\frac{1}{2} \\left( f(X) \\text{d}t^2 + 2 f(x)g(x)\\, \\text{d}t dW + g^2(x) \\text{d}W^2 \\right) \\\\\n",
    "  \\implies && \\text{d}h &= \\left( f(X) h'(X) + \\frac{1}{2} h''(X)g^2(X) \\right) \\, \\text{d}t + h'(X) g(X) \\, \\text{d}W.\n",
    "\\end{align}\n",
    "\n",
    "This additional $g^2$ term makes all the difference when deriving numerical methods, where the chain rule is repeatedly used."
   ]
  },
  {
   "cell_type": "markdown",
   "metadata": {},
   "source": [
    "### Using this result\n",
    "\n",
    "Remember that\n",
    "\n",
    "\\begin{equation}\n",
    "  \\int_{t_0}^t W_s \\, \\text{d}W_s = \\frac{1}{2} W^2_t - \\frac{1}{2} W^2_{t_0} - \\frac{1}{2} (t - t_0).\n",
    "\\end{equation}\n",
    "\n",
    "From this we need to identify the stochastic differential equation, and also the function $h$, that will give us this result just from the chain rule.\n",
    "\n",
    "The SDE is\n",
    "\n",
    "\\begin{equation}\n",
    "  \\text{d}X_t = \\text{d}W_t, \\quad f(X) = 0, \\quad g(X) = 1.\n",
    "\\end{equation}\n",
    "\n",
    "Writing the chain rule down in the form\n",
    "\n",
    "\\begin{equation}\n",
    "  h(X_t) = h(X_0) + \\int_0^t \\left( f(X_s) h'(X_s) + \\frac{1}{2} h''(X_s) g^2(X_s) \\right) \\, \\text{d}t + \\int_0^t h'(X_s) g(X_s) \\, \\text{d}W_s.\n",
    "\\end{equation}\n",
    "\n",
    "Matching the final term (the integral over $\\text{d}W_s$) we see that we need $h'$ to go like $X$, or \n",
    "\n",
    "\\begin{equation}\n",
    "  h = X^2, \\quad \\text{d}X_t = \\text{d}W_t, \\quad f(X) = 0, \\quad g(X) = 1.\n",
    "\\end{equation}\n",
    "\n",
    "With $X_t = W_t$ we therefore have\n",
    "\n",
    "\\begin{align}\n",
    "   W_t^2 &= W_0^2 + \\int_{t_0}^t \\frac{1}{2} 2 \\, \\text{d}s + \\int_{t_0}^t 2 W_s \\, \\text{d}W_s\n",
    "   &= W_0^2 + (t - t_0) + \\int_{t_0}^t 2 W_s \\, \\text{d}W_s\n",
    "\\end{align}\n",
    "\n",
    "as required."
   ]
  },
  {
   "cell_type": "markdown",
   "metadata": {},
   "source": [
    "## Milstein's method"
   ]
  },
  {
   "cell_type": "markdown",
   "metadata": {},
   "source": [
    "Using our chain rule we can construct higher order methods for stochastic differential equations. Milstein's method, applied to the SDE\n",
    "$$\n",
    "  \\text{d}X = f(X) \\, \\text{d}t + g(X) \\,\\text{d}W,\n",
    "$$\n",
    "is\n",
    "$$\n",
    "  X_{n+1} = X_n + h f_n + g_n \\, \\text{d}W_{n} + \\tfrac{1}{2} g_n g'_n \\left( \\text{d}W_{n}^2 - h \\right).\n",
    "$$"
   ]
  },
  {
   "cell_type": "markdown",
   "metadata": {},
   "source": [
    "### Tasks"
   ]
  },
  {
   "cell_type": "markdown",
   "metadata": {},
   "source": [
    "Implement Milstein's method, applied to the problem in the previous lab:\n",
    "$$\n",
    "\\begin{equation}\n",
    "  \\text{d}X(t) = \\lambda X(t) \\, \\text{d}t + \\mu X(t) \\text{d}W(t), \\qquad X(0) = X_0.\n",
    "\\end{equation}\n",
    "$$\n",
    "\n",
    "Choose any reasonable values of the free parameters $\\lambda, \\mu, X_0$.\n",
    "\n",
    "The exact solution to this equation is $X(t) = X(0) \\exp \\left[ \\left( \\lambda - \\tfrac{1}{2} \\mu^2 \\right) t + \\mu W(t) \\right]$. Fix the timetstep and compare your solution to the exact solution."
   ]
  },
  {
   "cell_type": "code",
   "execution_count": null,
   "metadata": {
    "collapsed": false
   },
   "outputs": [],
   "source": []
  },
  {
   "cell_type": "markdown",
   "metadata": {},
   "source": [
    "Check the convergence again."
   ]
  },
  {
   "cell_type": "code",
   "execution_count": null,
   "metadata": {
    "collapsed": false
   },
   "outputs": [],
   "source": []
  },
  {
   "cell_type": "markdown",
   "metadata": {},
   "source": [
    "Compare the *performance* of the Euler-Maruyama and Milstein method using eg `timeit`. At what point is one method better than the other?"
   ]
  },
  {
   "cell_type": "code",
   "execution_count": null,
   "metadata": {
    "collapsed": false
   },
   "outputs": [],
   "source": []
  },
  {
   "cell_type": "markdown",
   "metadata": {},
   "source": [
    "## Population problem"
   ]
  },
  {
   "cell_type": "markdown",
   "metadata": {},
   "source": [
    "Apply the algorithms, convergence and performance tests to the SDE\n",
    "\n",
    "$$\n",
    "\\begin{equation}\n",
    "  \\text{d}X(t) = r X(t) (K - X(t)) \\, \\text{d}t + \\beta X(t) \\,\\text{d}W(t), \\qquad X(0) = X_0.\n",
    "\\end{equation}\n",
    "$$\n",
    "\n",
    "Use the parameters $r = 2, K = 1, \\beta = 0.25, X_0 = 0.5$."
   ]
  },
  {
   "cell_type": "code",
   "execution_count": 3,
   "metadata": {
    "collapsed": false
   },
   "outputs": [],
   "source": [
    "r = 2.0\n",
    "K = 1.0\n",
    "beta = 0.25\n",
    "X0 = 0.5\n",
    "T   = 1.0\n"
   ]
  },
  {
   "cell_type": "code",
   "execution_count": null,
   "metadata": {
    "collapsed": false
   },
   "outputs": [],
   "source": []
  },
  {
   "cell_type": "markdown",
   "metadata": {},
   "source": [
    "Investigate how the behaviour varies as you change the parameters $r, K, \\beta$."
   ]
  },
  {
   "cell_type": "code",
   "execution_count": null,
   "metadata": {
    "collapsed": false
   },
   "outputs": [],
   "source": []
  }
 ],
 "metadata": {
  "kernelspec": {
   "display_name": "Python 3",
   "language": "python",
   "name": "python3"
  },
  "language_info": {
   "codemirror_mode": {
    "name": "ipython",
    "version": 3
   },
   "file_extension": ".py",
   "mimetype": "text/x-python",
   "name": "python",
   "nbconvert_exporter": "python",
   "pygments_lexer": "ipython3",
   "version": "3.4.5"
  }
 },
 "nbformat": 4,
 "nbformat_minor": 0
}
