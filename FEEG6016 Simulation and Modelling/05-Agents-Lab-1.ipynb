{
 "cells": [
  {
   "cell_type": "markdown",
   "metadata": {},
   "source": [
    "# Agents: Lab 1"
   ]
  },
  {
   "cell_type": "code",
   "execution_count": 1,
   "metadata": {
    "collapsed": false
   },
   "outputs": [
    {
     "data": {
      "text/html": [
       "<link href='http://fonts.googleapis.com/css?family=Open+Sans:100,300,400,500,700,800,900,100italic,300italic,400italic,500italic,700italic,800italic,900italic' rel='stylesheet' type='text/css'>\n",
       "<link href='http://fonts.googleapis.com/css?family=Arvo:400,700,400italic' rel='stylesheet' type='text/css'>\n",
       "<link href='http://fonts.googleapis.com/css?family=PT+Mono' rel='stylesheet' type='text/css'>\n",
       "<link href='http://fonts.googleapis.com/css?family=Shadows+Into+Light' rel='stylesheet' type='text/css'>\n",
       "<link href='http://fonts.googleapis.com/css?family=Nixie+One' rel='stylesheet' type='text/css'>\n",
       "<style>\n",
       "\n",
       "@font-face {\n",
       "    font-family: \"Computer Modern\";\n",
       "    src: url('http://mirrors.ctan.org/fonts/cm-unicode/fonts/otf/cmunss.otf');\n",
       "}\n",
       "\n",
       "#notebook_panel { /* main background */\n",
       "    background: rgb(245,245,245);\n",
       "}\n",
       "\n",
       "div.cell { /* set cell width */\n",
       "    width: 1000px;\n",
       "}\n",
       "\n",
       "div #notebook { /* centre the content */\n",
       "    background: #fff; /* white background for content */\n",
       "    width: 1200px;\n",
       "    margin: auto;\n",
       "    padding-left: 0em;\n",
       "}\n",
       "\n",
       "#notebook li { /* More space between bullet points */\n",
       "margin-top:0.8em;\n",
       "}\n",
       "\n",
       "/* draw border around running cells */\n",
       "div.cell.border-box-sizing.code_cell.running { \n",
       "    border: 1px solid #111;\n",
       "}\n",
       "\n",
       "/* Put a solid color box around each cell and its output, visually linking them*/\n",
       "div.cell.code_cell {\n",
       "    background-color: rgb(256,256,256); \n",
       "    border-radius: 0px; \n",
       "    padding: 0.5em;\n",
       "    margin-left:1em;\n",
       "    margin-top: 1em;\n",
       "}\n",
       "\n",
       "div.text_cell_render{\n",
       "    font-family: 'Open Sans' sans-serif;\n",
       "    line-height: 140%;\n",
       "    font-size: 125%;\n",
       "    font-weight: 400;\n",
       "    width:900px;\n",
       "    margin-left:auto;\n",
       "    margin-right:auto;\n",
       "}\n",
       "\n",
       "\n",
       "/* Formatting for header cells */\n",
       ".text_cell_render h1 {\n",
       "    font-family: 'Arvo', serif;\n",
       "    font-style:regular;\n",
       "    font-weight: 400;    \n",
       "    font-size: 45pt;\n",
       "    line-height: 100%;\n",
       "    color: rgb(0,51,102);\n",
       "    margin-bottom: 0.5em;\n",
       "    margin-top: 0.5em;\n",
       "    display: block;\n",
       "}\t\n",
       ".text_cell_render h2 {\n",
       "    font-family: 'Arvo', serif;\n",
       "    font-weight: 400;\n",
       "    font-size: 30pt;\n",
       "    line-height: 100%;\n",
       "    color: rgb(0,51,102);\n",
       "    margin-bottom: 0.1em;\n",
       "    margin-top: 0.3em;\n",
       "    display: block;\n",
       "}\t\n",
       "\n",
       ".text_cell_render h3 {\n",
       "    font-family: 'Arvo', serif;\n",
       "    margin-top:16px;\n",
       "\tfont-size: 22pt;\n",
       "    font-weight: 600;\n",
       "    margin-bottom: 3px;\n",
       "    font-style: regular;\n",
       "    color: rgb(102,102,0);\n",
       "}\n",
       "\n",
       ".text_cell_render h4 {    /*Use this for captions*/\n",
       "    font-family: 'Arvo', serif;\n",
       "    font-size: 14pt;\n",
       "    text-align: center;\n",
       "    margin-top: 0em;\n",
       "    margin-bottom: 2em;\n",
       "    font-style: regular;\n",
       "}\n",
       "\n",
       ".text_cell_render h5 {  /*Use this for small titles*/\n",
       "    font-family: 'Arvo', sans-serif;\n",
       "    font-weight: 400;\n",
       "    font-size: 16pt;\n",
       "    color: rgb(163,0,0);\n",
       "    font-style: italic;\n",
       "    margin-bottom: .1em;\n",
       "    margin-top: 0.8em;\n",
       "    display: block;\n",
       "}\n",
       "\n",
       ".text_cell_render h6 { /*use this for copyright note*/\n",
       "    font-family: 'PT Mono', sans-serif;\n",
       "    font-weight: 300;\n",
       "    font-size: 9pt;\n",
       "    line-height: 100%;\n",
       "    color: grey;\n",
       "    margin-bottom: 1px;\n",
       "    margin-top: 1px;\n",
       "}\n",
       "\n",
       ".CodeMirror{\n",
       "        font-family: \"PT Mono\";\n",
       "        font-size: 90%;\n",
       "}\n",
       "\n",
       "</style>\n",
       "<script>\n",
       "    MathJax.Hub.Config({\n",
       "                        TeX: {\n",
       "                           extensions: [\"AMSmath.js\"],\n",
       "                           equationNumbers: { autoNumber: \"AMS\", useLabelIds: true}\n",
       "                           },\n",
       "                tex2jax: {\n",
       "                    inlineMath: [ ['$','$'], [\"\\\\(\",\"\\\\)\"] ],\n",
       "                    displayMath: [ ['$$','$$'], [\"\\\\[\",\"\\\\]\"] ]\n",
       "                },\n",
       "                displayAlign: 'center', // Change this to 'center' to center equations.\n",
       "                \"HTML-CSS\": {\n",
       "                    styles: {'.MathJax_Display': {\"margin\": 4}}\n",
       "                }\n",
       "        });\n",
       "</script>\n"
      ],
      "text/plain": [
       "<IPython.core.display.HTML object>"
      ]
     },
     "execution_count": 1,
     "metadata": {},
     "output_type": "execute_result"
    }
   ],
   "source": [
    "from IPython.core.display import HTML\n",
    "css_file = 'https://raw.githubusercontent.com/ngcm/training-public/master/ipython_notebook_styles/ngcmstyle.css'\n",
    "HTML(url=css_file)"
   ]
  },
  {
   "cell_type": "markdown",
   "metadata": {},
   "source": [
    "## Conway's Game of Life"
   ]
  },
  {
   "cell_type": "markdown",
   "metadata": {},
   "source": [
    "A simple agent model is [Conway's Game of Life](https://en.wikipedia.org/wiki/Conway%27s_Game_of_Life), which is an example of [Cellular automota](https://en.wikipedia.org/wiki/Cellular_automaton). A two-dimensional square grid of cells are either \"dead\" or \"alive\". At each iteration, each cell checks its neighbours (including diagonals: each cell has 8 neighbours).\n",
    "\n",
    "* Any live cell with fewer than two live neighbours dies (\"under-population\")\n",
    "* Any live cell with two or three neighbours lives (\"survival\")\n",
    "* Any live cell with four or more neighbours dies (\"over-population\")\n",
    "* Any dead cell with *exactly* three neigbours lives (\"reproduction\")\n",
    "\n",
    "At the boundaries of the grid periodic boundary conditions are imposed."
   ]
  },
  {
   "cell_type": "markdown",
   "metadata": {},
   "source": [
    "Write a function that takes a `numpy` array representing the grid. Test it on some of the [standard example patterns](https://en.wikipedia.org/wiki/Conway%27s_Game_of_Life#Examples_of_patterns). The `matplotlib` `imshow` function, and the [matplotlib `FuncAnimation`](http://matplotlib.org/examples/animation/dynamic_image.html) function may help; if running in the notebook, the [instructions on installing and using ffmpeg and html5](https://github.com/numerical-mooc/numerical-mooc/blob/master/lessons/02_spacetime/02_03_1DDiffusion.ipynb) may also be useful."
   ]
  },
  {
   "cell_type": "code",
   "execution_count": 2,
   "metadata": {
    "collapsed": false
   },
   "outputs": [],
   "source": [
    "%matplotlib inline\n",
    "import numpy\n",
    "from matplotlib import pyplot, animation\n",
    "\n",
    "from matplotlib import rcParams\n",
    "rcParams['font.family'] = 'serif'\n",
    "rcParams['font.size'] = 16\n",
    "rcParams['figure.figsize'] = (12,6)\n",
    "\n",
    "from __future__ import division"
   ]
  },
  {
   "cell_type": "code",
   "execution_count": 3,
   "metadata": {
    "collapsed": false
   },
   "outputs": [],
   "source": [
    "def conway_iteration(grid):\n",
    "    \"\"\"\n",
    "    Take one iteration of Conway's game of life.\n",
    "    \n",
    "    Parameters\n",
    "    ----------\n",
    "    \n",
    "    grid : array\n",
    "        (N+2) x (N+2) numpy array representing the grid (1: live, 0: dead)\n",
    "    \n",
    "    \"\"\"\n",
    "    \n",
    "    # Code to go here\n",
    "    \n",
    "    return grid"
   ]
  },
  {
   "cell_type": "code",
   "execution_count": 4,
   "metadata": {
    "collapsed": false
   },
   "outputs": [
    {
     "data": {
      "image/png": "[encoded data removed]",
      "text/plain": [
       "<matplotlib.figure.Figure at 0x10dd5d940>"
      ]
     },
     "metadata": {},
     "output_type": "display_data"
    }
   ],
   "source": [
    "# Try the loaf - this is static\n",
    "\n",
    "grid_loaf = numpy.array([[0,0,0,0,0,0,0,0],\n",
    "                         [0,0,0,0,0,0,0,0],\n",
    "                         [0,0,0,1,1,0,0,0],\n",
    "                         [0,0,1,0,0,1,0,0],\n",
    "                         [0,0,0,1,0,1,0,0],\n",
    "                         [0,0,0,0,1,0,0,0],\n",
    "                         [0,0,0,0,0,0,0,0],\n",
    "                         [0,0,0,0,0,0,0,0]])\n",
    "\n",
    "fig = pyplot.figure()\n",
    "im = pyplot.imshow(grid_loaf[1:-1,1:-1], cmap=pyplot.get_cmap('gray'))\n",
    "\n",
    "def init():\n",
    "    im.set_array(grid_loaf[1:-1,1:-1])\n",
    "    return im,\n",
    "\n",
    "def animate(i):\n",
    "    conway_iteration(grid_loaf)\n",
    "    im.set_array(grid_loaf[1:-1,1:-1])\n",
    "    return im,\n",
    "\n",
    "# This will only work if you have ffmpeg installed\n",
    "\n",
    "anim = animation.FuncAnimation(fig, animate, init_func=init, interval=50, frames=10, blit=True)"
   ]
  },
  {
   "cell_type": "code",
   "execution_count": 5,
   "metadata": {
    "collapsed": false
   },
   "outputs": [
    {
     "data": {
      "text/html": [
       "<video width=\"864.0\" height=\"432.0\" controls autoplay loop>\n",
       "  <source type=\"video/mp4\" src=\"data:video/mp4;base64,AAAAHGZ0eXBNNFYgAAACAGlzb21pc28yYXZjMQAAAAhmcmVlAAAPgm1kYXQAAAKuBgX//6rcRem9\n",
       "5tlIt5Ys2CDZI+7veDI2NCAtIGNvcmUgMTQ4IHIyNjAxIGEwY2Q3ZDMgLSBILjI2NC9NUEVHLTQg\n",
       "QVZDIGNvZGVjIC0gQ29weWxlZnQgMjAwMy0yMDE1IC0gaHR0cDovL3d3dy52aWRlb2xhbi5vcmcv\n",
       "eDI2NC5odG1sIC0gb3B0aW9uczogY2FiYWM9MSByZWY9MyBkZWJsb2NrPTE6MDowIGFuYWx5c2U9\n",
       "MHgzOjB4MTEzIG1lPWhleCBzdWJtZT03IHBzeT0xIHBzeV9yZD0xLjAwOjAuMDAgbWl4ZWRfcmVm\n",
       "PTEgbWVfcmFuZ2U9MTYgY2hyb21hX21lPTEgdHJlbGxpcz0xIDh4OGRjdD0xIGNxbT0wIGRlYWR6\n",
       "b25lPTIxLDExIGZhc3RfcHNraXA9MSBjaHJvbWFfcXBfb2Zmc2V0PS0yIHRocmVhZHM9NiBsb29r\n",
       "YWhlYWRfdGhyZWFkcz0xIHNsaWNlZF90aHJlYWRzPTAgbnI9MCBkZWNpbWF0ZT0xIGludGVybGFj\n",
       "ZWQ9MCBibHVyYXlfY29tcGF0PTAgY29uc3RyYWluZWRfaW50cmE9MCBiZnJhbWVzPTMgYl9weXJh\n",
       "bWlkPTIgYl9hZGFwdD0xIGJfYmlhcz0wIGRpcmVjdD0xIHdlaWdodGI9MSBvcGVuX2dvcD0wIHdl\n",
       "aWdodHA9MiBrZXlpbnQ9MjUwIGtleWludF9taW49MjAgc2NlbmVjdXQ9NDAgaW50cmFfcmVmcmVz\n",
       "aD0wIHJjX2xvb2thaGVhZD00MCByYz1jcmYgbWJ0cmVlPTEgY3JmPTIzLjAgcWNvbXA9MC42MCBx\n",
       "cG1pbj0wIHFwbWF4PTY5IHFwc3RlcD00IGlwX3JhdGlvPTEuNDAgYXE9MToxLjAwAIAAAArOZYiE\n",
       "ADv//vdOvwKbRZdqA5JXCvbKpCZZuVJrAfKmAAADAAADAAADAAAR+XCwLsohLmSQAAADABM4wP/g\n",
       "24T/MAKwQtl+s8iE8PG6n2vpJiD/WXRe95F53SvpQf/JG6RXQPZxcvX7IfuCqh0SD62hzHsdat0q\n",
       "4oKJMoUHaHG421EltFwNTAltJ2MxLoATGrkcShtCsZQf5Cb3RGEKNbQn1GA/Lsa2ySSFVT2So0UL\n",
       "YHvP9Q5mY4qBUed1z1bvun2mxffRv7CRTnUXveiGrpJ4GtdwE7hrJ+N60XRDLAK4LZk9EiCUa7lw\n",
       "mn8DcAI+7juvmnMEakOlVWtZmFgEijoysdgRL+WJOFGWpUAxqfogSdb5+0Oiwe24ThvtA390kpGz\n",
       "5J1dBuSVqu4JvZdAC4qj19IQSVRWtGG91TjFTtknDg+FzEie9Gz6tUhOMqVH+GxiegwKeky88wqR\n",
       "uqEufX5oDW+mF0geWiAMTIyNGkWm8PlStjCXrR5tGlghTm5+dQTdbFmVTlxvQfyVEKn6FvqS8osc\n",
       "+NJYKjacz3jakTP2HgtgjuTSp8g86yDz5tRtk5634oo6hJDcPFgqF8GrAcprq60m6187GqZBqI9U\n",
       "ovNZG+HLjLeoFnGwTNOG/UKrQR016AAFpYb3/1NGfzb7udNlnvs18fhy+kCOMZRbzvlRztLFGTHE\n",
       "W+uoeM4lW0nmx3kLRxDGGFhXhFoSijA+Ll/RACo3263QrPGXzGo9lU0Cur/XfA2lAOR1HyaiiUS/\n",
       "bcePPOWSD3ExZpJ+3A4VF62MVJnE9lEoV1ck0d8Xzd08k8HWegcPvfAHByoBpgrA4o2av6/RK//1\n",
       "JAqsv6J2f6iAiTT5wvdy6Spochikn0MIdcivpO3akauthlEamR7YAaIr6P2GVO6RX2xLMtou5SXW\n",
       "AdAYPuLG2pVFf3mXitIWtK4Z+BLbIWO3wQKvexxlyNhij7CY0rj6atLtQpbzHanH933JojEK+xla\n",
       "X5AF2eco7gAAJ/Qa/Q/dbnCDdk2O7jY8whjPOIof5gcOvFaa669wfgyeGJdyzLUml5sWEaa/lAUU\n",
       "LjJe5j+zw4CnC5yieaUJ/Z3S5j0yNoHA1AnzozRnAbF+ul+nkgnQXt463P/HnC2fRhm1hJ9hZ6Df\n",
       "xk/DQ5uukVc0HIJJt7y6yyc9shAujHHm0c/2YFAAR1/jNoz2GaGOedcT5s3mJvufn9FLw1Ra12Wl\n",
       "k9CO6EKeuJ10RhyLH+CIrbBg7Lb6XmmqmGZnlmHQK2y/SRpKp86KXusRGazIHTaMGrffTeZxaHjx\n",
       "mLGlTGoJFHrVxORq4id5j/aeoRifAvvdPOSt+iS6+VBJt+foAYTxnbGYDsBl+BEzGWZ9bdT2dOrJ\n",
       "zJoNi1YtDa0PqvpAnnhHtVh5VW+L/97si/i27QFLt6f+IEhsS5cZNdUMr/wpHCZ9h5Ri7hwLjFcU\n",
       "BiR4FdxfKjuNodDvojvPvsrrinXLIEAvYArO2+73SQZnNZB8b48ol3wYbF7oNbDqmz1eAciGNhKq\n",
       "q7nID1n2NziAgudeKqp3R0UbEJfLrOERkMiybXjATVd2GK/+hVbWrmDT6fVwR2ZJImzo1yUpK7uf\n",
       "wDh0p549hUlOux/Dveqp3nDvyM8FQcglu6VH2OaSwdAP86MW++7EabN552AWQWBK0kWPMVwkdjS9\n",
       "uevXjrDVdDwBBZvSVTCuxnZB9t7nYXBv3+5Dg4qz42UXNPOd4M06kpiIJof0OgE5B3G9mLdGz6HP\n",
       "QAJYhYWIi86X07EVbey3Uz1vpkzERa2kxTperiylb0WWRs8IbMhxhaLFFn/x2/p00EUXaFi4pPK2\n",
       "Gr4kLRaQMPv1JPv7divMoII+5lu7MU4uEiW79qp1spLZxyIiV8Txlgn+Ipxa1mw6ZuKqiNdLq5UB\n",
       "5RC24YYnbMrN3clOwNdmVlnWR1qqmO9wnsUhga1UMQ2XM5lYH5tw4tYCmK9WFdyH89lWZkU4ycFd\n",
       "iEmvz2LTGYD9kODqXpuEt9fMsekZ14LMf/qBPurusi+xuXY+pbeS8kwAqc+NSJpKwcztpPeu7LqH\n",
       "cU6cnR/YtDHNbXfcoD9g6nBVsyukfzGEyV0IV++RkdChJDd+iWfxhoFrsnNOlViJUgpIcF2eFkui\n",
       "cbZOcKSDq5Fk2noVocpEKyIBsI33t3CwkHUBBNPVuQABnRBSpIxe93cAgVmWB2oLv3VnKskoHX0L\n",
       "Jtaw+ygMNFwOfP7gtnyPRP6A28RdDWSFeF5CPHN8vPK3cIr3OlUnd/b81KgK9mLBzVmKQZ4bI6CP\n",
       "aQbbMVLGJtDFl/HL+bRXqakgTckozZt7XtuQda5lTcP91kLGicoeshckLPwZaqNnwyYKkys4AAtu\n",
       "vsX+UxzlHw11tsCyVkUEcbFJof2vODZGikgCDrnHrcFYau76w5dYy2mIts1kNTD/jg7bW4LsHOa4\n",
       "v6GIM7zmsL0tPCPm+m1cLZahKEpRWW/n/MXSUMfNisZOgAf7G8kIcCYkDdFwaQ3cAs2M+/M9lv1J\n",
       "CkUpvMU1I40lN5JWObwCMhIZD1D8xkjYkeMJObIAJWqrT1r2taXCA5UgEWdKUiOE9WG60rY/ObXY\n",
       "83vU2vU0D/OJycAqp+CjwgbYv03bEUUAgw2QedwuSSDmWwLX2xgAUP1973J3RZP8PfFtq7hn172s\n",
       "y8g0bVWeUPkT2Z94IiAf1KAWYrDDgkQudSDXgAWsP17uhbytiIfYzqZq50hr2oWLo4i+9qkKZrfj\n",
       "IWCsvuJtnbUoiP5XOA0iOLle1wACItkaEUY6m36bd/9RmxOBAtV81zcr+TzTk0JjcEP3EVKhHxfz\n",
       "IZZfRjdqMlrQeZK0NPTvZ5tNGKjVUSPMAJTci2xXsSmcVEJXJvCZiNqECPmIBnelSktxo/LEwGPZ\n",
       "dL8H8NUAAw//9qWA0NI6eP6/DTSvmUsmFnaFVOe5fxiovzaAw5pBW9IiBq682/3N8hV7EKQ/kgnh\n",
       "2CzisklKhomcL7O+PiRP529pGMvBX2OaYXgMKcCxBTcYcnnDZzvJf9iZhCm1449VpWW8aGISfahk\n",
       "mYt/zupKmeRYufVJTchjbyXgh+P7cKAYQQsXIALJGzh9YXWNWzJmX7qWkzIiA+22+sc4xcXil/OA\n",
       "AAAQ5t6N3CNQ+4R3d0mJUCgz/S9cKcqs7tc+a3U0lCIB6/WwCzy9zEfacddjUWHDb6XDUjAV8mmX\n",
       "/yIOVSw8tW9liMwYJFY/Di0iPu2L98DrkE/45J15IJQMMy5FdniIF2ZipFr+ezFCxsgW50sfJHJF\n",
       "yf3DR023c7ojmXoJCcRhVEeg75b4wmcbPjaUmv6r4m7HviNXj5xmm8k86/f38acZ1iFp/pXvUwiy\n",
       "e8xzo1qJeRjHeS2ptCauXD0T3bGQL9VX9rliO1Aky9riK/+1aplP/XCRw8uRgPJIrmuzWFw38pX5\n",
       "3XGtrqgcnxA7NoeKQ1XcxLfcVtfakiV1Fw5cpRT5t5oRTXgWV57TkMJeKut5O0PDY0WImMoDiCTy\n",
       "vzHKSX50v/XyVq73uAnMxxIg4nTmPSofvmMoW9fTib/zcF5eVs7ksz233vWyiI2fr9Fi5dqrHOiV\n",
       "sRpKjn27KVF+B+TTe71pxBpX/Iw9JK+Ntusy94o2f4q9av9pa6xr50mMDWnkzJoVcDF6EUp16T1R\n",
       "FE0J3pfI/vsre8vUAAP0cvBgMeI4AAADAGdBAAAAgUGaJGxDv/6plgAoXwDjwrddABHXxiezIcr8\n",
       "wPxCggKR52c8d20BVtOTxmLhrJ5TGve3WDKY4HV+FD7LJ+Zx7OgwlbLcIHltu3LSTX5G5FCc0fmE\n",
       "DMbfmuNw9wF51Ep3TkeHUs05XARhG7iO73SMDD+UKGKf6kAlEqY+0Krm5kAlYAAAAD1BnkJ4hn8A\n",
       "IrFo+cC+B6/nCmtCxyH4hjHhPN4fJ3z/c9rYeJZxc/POYDTYtKIV20KQGT8kdWG8l0hp+gq5AAAA\n",
       "MQGeYXRCvwA/fArhxpc2eszc5aThulEkS+IY9dw5XPA+cnOaLMB+EmBByI9RPlzRzAgAAAAqAZ5j\n",
       "akK/AA/jKOsbnjm1IPrsiojQHVSEkcjR7CgkICeiYgPcq4KYmPmBAAAAN0GaaEmoQWiZTAhn//6e\n",
       "EAAS1IGdqz3fgcOmDNp1kTfitQs9hOtgValQeGSHpLxdqLyPd7xkAVMAAAArQZ6GRREsM/8ACK67\n",
       "s8GyIgOmEE6qfCcO4ckFmYrTBETgbQbIC3hyEripgQAAACgBnqV0Qr8AD98A6vPvabiszVFaI4+O\n",
       "QzIgQXxuAkIDGC3gUsOP5kDBAAAAEwGep2pCvwAP4yiJAAADAAADAl4AAAAcQZqpSahBbJlMCFf/\n",
       "/jhAAAADAEdAlWggAACigAAAA6Ztb292AAAAbG12aGQAAAAAAAAAAAAAAAAAAAPoAAAB9AABAAAB\n",
       "AAAAAAAAAAAAAAAAAQAAAAAAAAAAAAAAAAAAAAEAAAAAAAAAAAAAAAAAAEAAAAAAAAAAAAAAAAAA\n",
       "AAAAAAAAAAAAAAAAAAAAAAACAAAC0HRyYWsAAABcdGtoZAAAAAMAAAAAAAAAAAAAAAEAAAAAAAAB\n",
       "9AAAAAAAAAAAAAAAAAAAAAAAAQAAAAAAAAAAAAAAAAAAAAEAAAAAAAAAAAAAAAAAAEAAAAADYAAA\n",
       "AbAAAAAAACRlZHRzAAAAHGVsc3QAAAAAAAAAAQAAAfQAAAQAAAEAAAAAAkhtZGlhAAAAIG1kaGQA\n",
       "AAAAAAAAAAAAAAAAACgAAAAUAFXEAAAAAAAtaGRscgAAAAAAAAAAdmlkZQAAAAAAAAAAAAAAAFZp\n",
       "ZGVvSGFuZGxlcgAAAAHzbWluZgAAABR2bWhkAAAAAQAAAAAAAAAAAAAAJGRpbmYAAAAcZHJlZgAA\n",
       "AAAAAAABAAAADHVybCAAAAABAAABs3N0YmwAAACzc3RzZAAAAAAAAAABAAAAo2F2YzEAAAAAAAAA\n",
       "AQAAAAAAAAAAAAAAAAAAAAADYAGwAEgAAABIAAAAAAAAAAEAAAAAAAAAAAAAAAAAAAAAAAAAAAAA\n",
       "AAAAAAAAAAAAAAAY//8AAAAxYXZjQwFkAB7/4QAYZ2QAHqzZQNg3oQAAAwABAAADACgPFi2WAQAG\n",
       "aOvjyyLAAAAAHHV1aWRraEDyXyRPxbo5pRvPAyPzAAAAAAAAABhzdHRzAAAAAAAAAAEAAAAKAAAC\n",
       "AAAAABRzdHNzAAAAAAAAAAEAAAABAAAAYGN0dHMAAAAAAAAACgAAAAEAAAQAAAAAAQAACgAAAAAB\n",
       "AAAEAAAAAAEAAAAAAAAAAQAAAgAAAAABAAAKAAAAAAEAAAQAAAAAAQAAAAAAAAABAAACAAAAAAEA\n",
       "AAQAAAAAHHN0c2MAAAAAAAAAAQAAAAEAAAAKAAAAAQAAADxzdHN6AAAAAAAAAAAAAAAKAAANhAAA\n",
       "AIUAAABBAAAANQAAAC4AAAA7AAAALwAAACwAAAAXAAAAIAAAABRzdGNvAAAAAAAAAAEAAAAsAAAA\n",
       "YnVkdGEAAABabWV0YQAAAAAAAAAhaGRscgAAAAAAAAAAbWRpcmFwcGwAAAAAAAAAAAAAAAAtaWxz\n",
       "dAAAACWpdG9vAAAAHWRhdGEAAAABAAAAAExhdmY1Ni40MC4xMDE=\n",
       "\">\n",
       "  Your browser does not support the video tag.\n",
       "</video>"
      ],
      "text/plain": [
       "<IPython.core.display.HTML object>"
      ]
     },
     "execution_count": 5,
     "metadata": {},
     "output_type": "execute_result"
    }
   ],
   "source": [
    "HTML(anim.to_html5_video())"
   ]
  },
  {
   "cell_type": "markdown",
   "metadata": {},
   "source": [
    "Create some random $256 \\times 256$ grids and see what behaviour results."
   ]
  },
  {
   "cell_type": "code",
   "execution_count": null,
   "metadata": {
    "collapsed": true
   },
   "outputs": [],
   "source": []
  },
  {
   "cell_type": "markdown",
   "metadata": {},
   "source": [
    "## Cellular Automata"
   ]
  },
  {
   "cell_type": "markdown",
   "metadata": {},
   "source": [
    "The Game of Life is an example of *cellular automata*: a \"grid\" containing cells representing some model is updated in discrete timesteps according to some rules, usually involving neighbouring cells. Each cell can be thought of as an independent player of the game - an agent - that interacts through its neighbours in order to evolve.\n",
    "\n",
    "As an example of a cellular automata model, consider traffic flow. A road is modelled as a grid with one spatial dimension containing $N$ cells. The cell either contains a car (has value $1$) or doesn't (has value $0$). If the space in front of the car is empty it moves forwards; if not, it stays where it is. Periodic boundary conditions are used. We phrase this in terms of \"road locations\" $R_i^n$, so that $R_i^{n+1} = 0$ except for:\n",
    "\n",
    "\\begin{align}\n",
    "  R_i^{n+1} & = 1 & \\text{if $R_i^n=1$ and $R_{i+1}^n=1$ (car does not move), or} \\\\\n",
    "  R_i^{n+1} & = 1 & \\text{if $R_{i-1}^n=1$ and $R_i^n=0$ (car moves forwards)}.\n",
    "\\end{align}\n",
    "\n",
    "A useful diagnostic quantity for this model is the *average velocity*; the number of cars that moved in one step divided by the total number of cars on the road."
   ]
  },
  {
   "cell_type": "markdown",
   "metadata": {},
   "source": [
    "### Initial data and density\n",
    "\n",
    "For initial data, we choose the *density* of cars on the road to be between $0$ and $1$. Then, for each grid cell, compute uniform random numbers for each cell and initialize the cell according to the density:"
   ]
  },
  {
   "cell_type": "markdown",
   "metadata": {},
   "source": [
    "### Evolution\n",
    "\n",
    "Construct \"roads\" as above and evolve according to the update rule. See how the average velocity behaves. Test the limiting cases. Plot the behaviour of the average velocity against the density: can you understand why it behaves this way? If needed, plot the late time locations of the \"cars\"."
   ]
  },
  {
   "cell_type": "code",
   "execution_count": null,
   "metadata": {
    "collapsed": true
   },
   "outputs": [],
   "source": []
  },
  {
   "cell_type": "markdown",
   "metadata": {},
   "source": [
    "### Making it more complex\n",
    "\n",
    "Consider adding another lane to the road. The grid becomes a $N \\times 2$ array. The \"fast\" lane can take one additional step every $k$ steps (eg, if the fast lane is going $10$% faster, then every tenth step the fast lane takes two timesteps instead of one).\n",
    "\n",
    "We now need to add rules to change lane. Denote cells in the fast lane by $F^n_i$, and in the slow lane by $S^n_i$. Consider a \"polite\" overtaking move: if $S^n_i=1$ and $S^n_{i+1}=1$ then the car at $S^n_i$ will overtake (move to $F^{n+1}_{i+1}$) *only* if there are no cars in its way ($F^n_{i} = 0 = F^n_{i+1}$) *and* if it will not block a car in the fast lane ($F^n_{i-1}=0$). It will also move back into the slow lane in the same circumstances: if a car in the fast lane at $F^n_{i}=1$ is not blocked by, or blocking, any slow lane cars, ie $0 = S^n_i = S^n_{i+1} = S^n_{i-1}$.\n",
    "\n",
    "Initialize the slow lane only with a certain density of cars. Investigate how the what the average *density* of cars in the fast and slow lane looks like, depending on the initial density."
   ]
  },
  {
   "cell_type": "code",
   "execution_count": null,
   "metadata": {
    "collapsed": true
   },
   "outputs": [],
   "source": []
  }
 ],
 "metadata": {
  "kernelspec": {
   "display_name": "Python 3",
   "language": "python",
   "name": "python3"
  },
  "language_info": {
   "codemirror_mode": {
    "name": "ipython",
    "version": 3
   },
   "file_extension": ".py",
   "mimetype": "text/x-python",
   "name": "python",
   "nbconvert_exporter": "python",
   "pygments_lexer": "ipython3",
   "version": "3.4.4"
  }
 },
 "nbformat": 4,
 "nbformat_minor": 0
}
