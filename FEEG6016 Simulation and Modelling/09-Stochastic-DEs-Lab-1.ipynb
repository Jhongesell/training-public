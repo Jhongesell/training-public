{
 "cells": [
  {
   "cell_type": "markdown",
   "metadata": {},
   "source": [
    "# Stochastic Differential Equations: Lab 1"
   ]
  },
  {
   "cell_type": "code",
   "execution_count": 1,
   "metadata": {
    "collapsed": false
   },
   "outputs": [
    {
     "data": {
      "text/html": [
       "<link href='http://fonts.googleapis.com/css?family=Open+Sans:100,300,400,500,700,800,900,100italic,300italic,400italic,500italic,700italic,800italic,900italic' rel='stylesheet' type='text/css'>\n",
       "<link href='http://fonts.googleapis.com/css?family=Arvo:400,700,400italic' rel='stylesheet' type='text/css'>\n",
       "<link href='http://fonts.googleapis.com/css?family=PT+Mono' rel='stylesheet' type='text/css'>\n",
       "<link href='http://fonts.googleapis.com/css?family=Shadows+Into+Light' rel='stylesheet' type='text/css'>\n",
       "<link href='http://fonts.googleapis.com/css?family=Nixie+One' rel='stylesheet' type='text/css'>\n",
       "<style>\n",
       "\n",
       "@font-face {\n",
       "    font-family: \"Computer Modern\";\n",
       "    src: url('http://mirrors.ctan.org/fonts/cm-unicode/fonts/otf/cmunss.otf');\n",
       "}\n",
       "\n",
       "#notebook_panel { /* main background */\n",
       "    background: rgb(245,245,245);\n",
       "}\n",
       "\n",
       "div.cell { /* set cell width */\n",
       "    width: 1000px;\n",
       "}\n",
       "\n",
       "div #notebook { /* centre the content */\n",
       "    background: #fff; /* white background for content */\n",
       "    width: 1200px;\n",
       "    margin: auto;\n",
       "    padding-left: 0em;\n",
       "}\n",
       "\n",
       "#notebook li { /* More space between bullet points */\n",
       "margin-top:0.8em;\n",
       "}\n",
       "\n",
       "/* draw border around running cells */\n",
       "div.cell.border-box-sizing.code_cell.running { \n",
       "    border: 1px solid #111;\n",
       "}\n",
       "\n",
       "/* Put a solid color box around each cell and its output, visually linking them*/\n",
       "div.cell.code_cell {\n",
       "    background-color: rgb(256,256,256); \n",
       "    border-radius: 0px; \n",
       "    padding: 0.5em;\n",
       "    margin-left:1em;\n",
       "    margin-top: 1em;\n",
       "}\n",
       "\n",
       "div.text_cell_render{\n",
       "    font-family: 'Open Sans' sans-serif;\n",
       "    line-height: 140%;\n",
       "    font-size: 125%;\n",
       "    font-weight: 400;\n",
       "    width:900px;\n",
       "    margin-left:auto;\n",
       "    margin-right:auto;\n",
       "}\n",
       "\n",
       "\n",
       "/* Formatting for header cells */\n",
       ".text_cell_render h1 {\n",
       "    font-family: 'Arvo', serif;\n",
       "    font-style:regular;\n",
       "    font-weight: 400;    \n",
       "    font-size: 45pt;\n",
       "    line-height: 100%;\n",
       "    color: rgb(0,51,102);\n",
       "    margin-bottom: 0.5em;\n",
       "    margin-top: 0.5em;\n",
       "    display: block;\n",
       "}\t\n",
       ".text_cell_render h2 {\n",
       "    font-family: 'Arvo', serif;\n",
       "    font-weight: 400;\n",
       "    font-size: 30pt;\n",
       "    line-height: 100%;\n",
       "    color: rgb(0,51,102);\n",
       "    margin-bottom: 0.1em;\n",
       "    margin-top: 0.3em;\n",
       "    display: block;\n",
       "}\t\n",
       "\n",
       ".text_cell_render h3 {\n",
       "    font-family: 'Arvo', serif;\n",
       "    margin-top:16px;\n",
       "\tfont-size: 22pt;\n",
       "    font-weight: 600;\n",
       "    margin-bottom: 3px;\n",
       "    font-style: regular;\n",
       "    color: rgb(102,102,0);\n",
       "}\n",
       "\n",
       ".text_cell_render h4 {    /*Use this for captions*/\n",
       "    font-family: 'Arvo', serif;\n",
       "    font-size: 14pt;\n",
       "    text-align: center;\n",
       "    margin-top: 0em;\n",
       "    margin-bottom: 2em;\n",
       "    font-style: regular;\n",
       "}\n",
       "\n",
       ".text_cell_render h5 {  /*Use this for small titles*/\n",
       "    font-family: 'Arvo', sans-serif;\n",
       "    font-weight: 400;\n",
       "    font-size: 16pt;\n",
       "    color: rgb(163,0,0);\n",
       "    font-style: italic;\n",
       "    margin-bottom: .1em;\n",
       "    margin-top: 0.8em;\n",
       "    display: block;\n",
       "}\n",
       "\n",
       ".text_cell_render h6 { /*use this for copyright note*/\n",
       "    font-family: 'PT Mono', sans-serif;\n",
       "    font-weight: 300;\n",
       "    font-size: 9pt;\n",
       "    line-height: 100%;\n",
       "    color: grey;\n",
       "    margin-bottom: 1px;\n",
       "    margin-top: 1px;\n",
       "}\n",
       "\n",
       ".CodeMirror{\n",
       "        font-family: \"PT Mono\";\n",
       "        font-size: 90%;\n",
       "}\n",
       "\n",
       "</style>\n",
       "<script>\n",
       "    MathJax.Hub.Config({\n",
       "                        TeX: {\n",
       "                           extensions: [\"AMSmath.js\"],\n",
       "                           equationNumbers: { autoNumber: \"AMS\", useLabelIds: true}\n",
       "                           },\n",
       "                tex2jax: {\n",
       "                    inlineMath: [ ['$','$'], [\"\\\\(\",\"\\\\)\"] ],\n",
       "                    displayMath: [ ['$$','$$'], [\"\\\\[\",\"\\\\]\"] ]\n",
       "                },\n",
       "                displayAlign: 'center', // Change this to 'center' to center equations.\n",
       "                \"HTML-CSS\": {\n",
       "                    styles: {'.MathJax_Display': {\"margin\": 4}}\n",
       "                }\n",
       "        });\n",
       "</script>\n"
      ],
      "text/plain": [
       "<IPython.core.display.HTML object>"
      ]
     },
     "execution_count": 1,
     "metadata": {},
     "output_type": "execute_result"
    }
   ],
   "source": [
    "from IPython.core.display import HTML\n",
    "css_file = 'https://raw.githubusercontent.com/ngcm/training-public/master/ipython_notebook_styles/ngcmstyle.css'\n",
    "HTML(url=css_file)"
   ]
  },
  {
   "cell_type": "markdown",
   "metadata": {},
   "source": [
    "This background for these exercises is article of D Higham, [*An Algorithmic Introduction to Numerical Simulation of Stochastic Differential Equations*, SIAM Review 43:525-546 (2001)](http://epubs.siam.org/doi/abs/10.1137/S0036144500378302).\n",
    "Higham provides Matlab codes illustrating the basic ideas at <http://personal.strath.ac.uk/d.j.higham/algfiles.html>, which are also given in the paper."
   ]
  },
  {
   "cell_type": "markdown",
   "metadata": {},
   "source": [
    "For random processes in `python` you should look at the `numpy.random` module. To set the initial seed (which you should *not* do in a real simulation, but allows for reproducible testing), see `numpy.random.seed`."
   ]
  },
  {
   "cell_type": "markdown",
   "metadata": {},
   "source": [
    "## Brownian processes"
   ]
  },
  {
   "cell_type": "markdown",
   "metadata": {},
   "source": [
    "A *random walk* or *Brownian process* or *Wiener process* is a way of modelling error introduced by uncertainty into a differential equation. The random variable representing the walk is denoted $W$. A single realization of the walk is written $W(t)$. We will assume that\n",
    "\n",
    "1. The walk (value of $W(t)$) is initially (at $t=0$) $0$, so $W(0)=0$, to represent \"perfect knowledge\" there;\n",
    "2. The walk is *on average* zero, so $\\mathbb{E}[W(t+h) - W(t)] = 0$, where the *expectation value* is\n",
    "$$\n",
    "  \\mathbb{E}[W] = \\int_{-\\infty}^{\\infty} t W(t) \\, \\text{d}t\n",
    "$$\n",
    "3. Any step in the walk is independent of any other step, so $W(t_2) - W(t_1)$ is independent of $W(s_2) - W(s_1)$ for any $s_{1,2} \\ne t_{1,2}$.\n",
    "\n",
    "These requirements lead to a definition of a *discrete* random walk: given the points $\\{ t_i \\}$ with $i = 0, \\dots, N$ separated by a uniform timestep $\\delta t$, we have - for a single realization of the walk - the definition\n",
    "$$\n",
    "\\begin{align}\n",
    "  \\text{d}W_i &= \\sqrt{\\delta t} {\\cal N}(0, 1), \\\\\n",
    "  W_i &= \\left( \\sum_{j=0}^{i-1} \\text{d}W_j \\right), \\\\\n",
    "  W_0 &= 0\n",
    "\\end{align}\n",
    "$$\n",
    "Here ${\\cal N}(0, 1)$ means a realization of a normally distributed random variable with mean $0$ and standard deviation $1$: programmatically, the output of `numpy.random.randn`."
   ]
  },
  {
   "cell_type": "markdown",
   "metadata": {},
   "source": [
    "When working with discrete Brownian processes, there are two things we can do.\n",
    "\n",
    "1. We can think about a *single realization* at different timescales, by averaging over more points. E.g.\n",
    "$$\n",
    "  W_i = \\left( \\sum_{j=0}^{i_1} \\sum_{k=0}^{p} \\text{d}W_{(p j + k)} \\right)\n",
    "$$\n",
    "is a Brownian process with timestep $p \\, \\delta t$.\n",
    "2. We can think about *multiple realizations* by computing a new set of steps $\\text{d}W$, whilst at the same timestep.\n",
    "\n",
    "Both viewpoints are important."
   ]
  },
  {
   "cell_type": "markdown",
   "metadata": {},
   "source": [
    "### Tasks"
   ]
  },
  {
   "cell_type": "markdown",
   "metadata": {},
   "source": [
    "1. Simulate a single realization of a Brownian process over $[0, 1]$ using a step length $\\delta t = 1/N$ for $N = 500, 1000, 2000$. Use a fixed seed of `100`. Compare the results.\n",
    "2. Simulation different realizations of a Brownian process with $\\delta t$ of your choice. Again, compare the results."
   ]
  },
  {
   "cell_type": "code",
   "execution_count": 2,
   "metadata": {
    "collapsed": false
   },
   "outputs": [],
   "source": [
    "%matplotlib inline\n",
    "import numpy\n",
    "from matplotlib import pyplot\n",
    "from matplotlib import rcParams\n",
    "rcParams['font.family'] = 'serif'\n",
    "rcParams['font.size'] = 16\n",
    "rcParams['figure.figsize'] = (12,6)\n",
    "from scipy.integrate import quad"
   ]
  },
  {
   "cell_type": "markdown",
   "metadata": {},
   "source": [
    "Evaluate the function $u(W(t)) = \\sin^2(t + W(t))$, where $W(t)$ is a Brownian process, on $M$ Brownian paths for $M = 500, 1000, 2000$. Compare the *average* path for each $M$."
   ]
  },
  {
   "cell_type": "markdown",
   "metadata": {},
   "source": [
    "The average path at time $t$ should be given by\n",
    "$$\n",
    "\\begin{equation}\n",
    "  \\int_{-\\infty}^{\\infty} \\frac{\\sin(t+s)^2 \\exp(-s^2 / 2t)}{\\sqrt{2 \\pi t}} \\,\\text{d}s.\n",
    "\\end{equation}\n",
    "$$"
   ]
  },
  {
   "cell_type": "code",
   "execution_count": 3,
   "metadata": {
    "collapsed": false
   },
   "outputs": [],
   "source": [
    "# This computes the exact solution!\n",
    "\n",
    "t_int = numpy.linspace(0.005, numpy.pi, 1000)\n",
    "\n",
    "def integrand(x,t):\n",
    "    return numpy.sin(t+x)**2*numpy.exp(-x**2/(2.0*t))/numpy.sqrt(2.0*numpy.pi*t)\n",
    "\n",
    "int_exact = numpy.zeros_like(t_int)\n",
    "for i, t in enumerate(t_int):\n",
    "    int_exact[i], err = quad(integrand, -numpy.inf, numpy.inf, args=(t,))"
   ]
  },
  {
   "cell_type": "markdown",
   "metadata": {},
   "source": [
    "## Stochastic integrals"
   ]
  },
  {
   "cell_type": "markdown",
   "metadata": {},
   "source": [
    "We have, in eg finite elements or multistep methods for IVPs, written the solution of differential equations in terms of integrals. We're going to do the same again, so we need to integrate random variables. The integral of a random variable *with respect to a Brownian process* is written\n",
    "$$\n",
    "  \\int_0^t G(s) \\, \\text{d}W_s,\n",
    "$$\n",
    "where the notation $\\text{d}W_s$ indicates that the step in the Brownian process depends on the (dummy) independent variable $s$.\n",
    "\n",
    "We'll concentrate on the case $G(s) = W(s)$, so we're trying to integrate the Brownian process itself. If this were a standard, non-random variable, the answer would be \n",
    "$$\n",
    "  \\int_0^t W(s) \\, \\text{d}W_s = \\frac{1}{2} \\left( W(t)^2 - W(0)^2 \\right).\n",
    "$$\n",
    "\n",
    "When we approximate the quadrature numerically than we would split the interval $[0, T]$ into strips (subintervals), approximate the integral on each subinterval by picking a point inside the interval, evaluating the integrand at that point, and weighting it by the width of the subinterval. In normal integration it doesn't matter which point within the subinterval we choose.\n",
    "\n",
    "In the stochastic case that is not true. We pick a specific point $\\tau_i = a t_i + (1-a) t_{i-1}$ in the interval $[t_{i-1}, t_i]$. The value $a \\in [0, 1]$ is a constant that says where within each interval we are evaluating the integrand. We can then approximate the integral by\n",
    "\n",
    "\\begin{equation}\n",
    "  \\int_0^T W(s) \\, dW_s = \\sum_{i=1}^N W(\\tau_i) \\left[ W(t_i) - W(t_{i-1}) \\right] = S_N.\n",
    "\\end{equation}\n",
    "\n",
    "Now we can compute (using that the expectation of the products of $W$ terms is the covariance, which is the minimum of the arguments)\n",
    "\n",
    "\\begin{align}\n",
    "  \\mathbb{E}(S_N) &= \\mathbb{E} \\left( \\sum_{i=1}^N W(\\tau_i) \\left[ W(t_i) - W(t_{i-1}) \\right] \\right) \\\\\n",
    "  &= \\sum_{i=1}^N \\mathbb{E} \\left( W(\\tau_i) W(t_i) \\right) - \\mathbb{E} \\left( W(\\tau_i) W(t_{i-1}) \\right) \\\\\n",
    "  &= \\sum_{i=1}^N (\\min\\{\\tau_i, t_i\\} - \\min\\{\\tau_i, t_{i-1}\\}) \\\\\n",
    "  &= \\sum_{i=1}^N (\\tau_i - t_{i-1}) \\\\\n",
    "  &= (t - t_0) a.\n",
    "\\end{align}\n",
    "\n",
    "The choice of evaluation point **matters**."
   ]
  },
  {
   "cell_type": "markdown",
   "metadata": {},
   "source": [
    "So there are multiple different stochastic integrals, each (effectively) corresponding to a different choice of $a$. The two standard choices are\n",
    "There are two standard choices of stochastic integral.\n",
    "\n",
    "1. Ito: choose $a=0$.\n",
    "2. Stratonovich: choose $a=1/2$.\n",
    "\n",
    "These lead to\n",
    "$$\n",
    "  \\int_0^t G(s) \\, \\text{d}W_s \\simeq_{\\text{Ito}} \\sum_{j=0}^{N-1} G(s_j, W(s_j)) \\left( W(s_{j+1}) - W(s_j) \\right) = \\sum_{j=0}^{N-1} G(s_j) \\text{d}W(s_{j})\n",
    "$$\n",
    "for the Ito integral, and\n",
    "$$\n",
    "  \\int_0^t G(s) \\, \\text{d}W_s \\simeq_{\\text{Stratonovich}} \\sum_{j=0}^{N-1} \\frac{1}{2} \\left( G(s_j, W(s_j)) + G(s_{j+1}, W(s_{j+1})) \\right) \\left( W(s_{j+1}) - W(s_j) \\right) = \\sum_{j=0}^{N-1} \\frac{1}{2} \\left( G(s_j, W(s_j)) + G(s_{j+1}, W(s_{j+1})) \\right) \\text{d}W(s_{j}).\n",
    "$$\n",
    "for the Stratonovich integral."
   ]
  },
  {
   "cell_type": "markdown",
   "metadata": {},
   "source": [
    "### Tasks"
   ]
  },
  {
   "cell_type": "markdown",
   "metadata": {},
   "source": [
    "Write functions to compute the Itô and Stratonovich integrals of a function $h(t, W(t))$ of a *given* Brownian process $W(t)$ over the interval $[0, 1]$."
   ]
  },
  {
   "cell_type": "code",
   "execution_count": 4,
   "metadata": {
    "collapsed": false
   },
   "outputs": [],
   "source": [
    "def ito(h, trange, dW):\n",
    "    \"\"\"Compute the Ito stochastic integral given the range of t.\n",
    "    \n",
    "    Parameters\n",
    "    ----------\n",
    "    \n",
    "    h : function\n",
    "        integrand\n",
    "    trange : list of float\n",
    "        the range of integration\n",
    "    dW : array of float\n",
    "        Brownian increments\n",
    "    seed : integer\n",
    "        optional seed for the Brownian path\n",
    "    Returns\n",
    "    -------\n",
    "    \n",
    "    ito : float\n",
    "        the integral\n",
    "    \"\"\"\n",
    "    \n",
    "    return ito"
   ]
  },
  {
   "cell_type": "code",
   "execution_count": 5,
   "metadata": {
    "collapsed": false
   },
   "outputs": [],
   "source": [
    "def stratonovich(h, trange, dW):\n",
    "    \"\"\"Compute the Stratonovich stochastic integral given the range of t.\n",
    "    \n",
    "    Parameters\n",
    "    ----------\n",
    "    \n",
    "    h : function\n",
    "        integrand\n",
    "    trange : list of float\n",
    "        the range of integration\n",
    "    dW : array of float\n",
    "        the Brownian increments\n",
    "        \n",
    "    Returns\n",
    "    -------\n",
    "    \n",
    "    stratonovich : float\n",
    "        the integral\n",
    "    \"\"\"\n",
    "    \n",
    "    return stratonovich"
   ]
  },
  {
   "cell_type": "markdown",
   "metadata": {},
   "source": [
    "Test the functions on $h = W(t)$ for various $N$. Compare the limiting values of the integrals."
   ]
  },
  {
   "cell_type": "markdown",
   "metadata": {},
   "source": [
    "## Euler-Maruyama's method"
   ]
  },
  {
   "cell_type": "markdown",
   "metadata": {},
   "source": [
    "Now we can write down a stochastic differential equation.\n",
    "\n",
    "The differential form of a stochastic differential equation is\n",
    "$$\n",
    "  \\frac{\\text{d}X}{\\text{d}t} = f(X) + g(X) \\frac{\\text{d}W}{\\text{d}t}\n",
    "$$\n",
    "and the comparable (and more useful) *integral form* is\n",
    "$$\n",
    "  \\text{d}X = f(X) \\, \\text{d}t + g(X) \\text{d}W.\n",
    "$$\n",
    "This has formal solution\n",
    "$$\n",
    "  X(t) = X_0 + \\int_0^t f(X(s)) \\, \\text{d}s + \\int_0^t g(X(s)) \\, \\text{d}W_s.\n",
    "$$"
   ]
  },
  {
   "cell_type": "markdown",
   "metadata": {},
   "source": [
    "We can use our Ito integral above to write down the *Euler-Maruyama method*\n",
    "\n",
    "$$\n",
    "  X(t+h) \\simeq X(t) + h f(X(t)) + g(X(t)) \\left( W(t+h) - W(t) \\right) + {\\cal{O}}(h^p).\n",
    "$$\n",
    "\n",
    "Written in discrete, subscript form we have\n",
    "\n",
    "$$\n",
    "  X_{n+1} = X_n + h f_n + g_n \\, \\text{d}W_{n}\n",
    "$$\n",
    "\n",
    "The order of convergence $p$ is an interesting and complex question."
   ]
  },
  {
   "cell_type": "markdown",
   "metadata": {},
   "source": [
    "### Tasks"
   ]
  },
  {
   "cell_type": "markdown",
   "metadata": {},
   "source": [
    "Apply the Euler-Maruyama method to the stochastic differential equation\n",
    "\n",
    "$$\n",
    "\\begin{equation}\n",
    "  dX(t) = \\lambda X(t) + \\mu X(t) dW(t), \\qquad X(0) = X_0.\n",
    "\\end{equation}\n",
    "$$\n",
    "\n",
    "Choose any reasonable values of the free parameters $\\lambda, \\mu, X_0$.\n",
    "\n",
    "The exact solution to this equation is $X(t) = X(0) \\exp \\left[ \\left( \\lambda - \\tfrac{1}{2} \\mu^2 \\right) t + \\mu W(t) \\right]$. Fix the timetstep and compare your solution to the exact solution."
   ]
  },
  {
   "cell_type": "markdown",
   "metadata": {},
   "source": [
    "Vary the timestep of the Brownian path and check how the numerical solution compares to the exact solution."
   ]
  },
  {
   "cell_type": "markdown",
   "metadata": {},
   "source": [
    "## Convergence"
   ]
  },
  {
   "cell_type": "markdown",
   "metadata": {},
   "source": [
    "We have two ways of thinking about Brownian paths or processes. \n",
    "\n",
    "We can fix the path (ie fix $\\text{d}W$) and vary the timescale on which we're looking at it: this gives us a single random path, and we can ask how the numerical method converges for this single realization. This is *strong convergence*.\n",
    "\n",
    "Alternatively, we can view each path as a single realization of a random process that should average to zero. We can then look at how the method converges as we average over a large number of realizations, *also* looking at how it converges as we vary the timescale. This is *weak convergence*.\n",
    "\n",
    "Formally, denote the true solution as $X(T)$ and the numerical solution for a given step length $h$ as $X^h(T)$. The order of convergence is denoted $p$.\n",
    "\n",
    "#### Strong convergence\n",
    "\n",
    "$$\n",
    "  \\mathbb{E} \\left| X(T) - X^h(T) \\right| \\le C h^{p}\n",
    "$$\n",
    "For Euler-Maruyama, expect $p=1/2$!.\n",
    "\n",
    "#### Weak convergence\n",
    "\n",
    "$$\n",
    "  \\left| \\mathbb{E} \\left( \\phi( X(T) ) \\right) - \\mathbb{E} \\left( \\phi( X^h(T) ) \\right) \\right| \\le C h^{p}\n",
    "$$\n",
    "For Euler-Maruyama, expect $p=1$."
   ]
  },
  {
   "cell_type": "markdown",
   "metadata": {},
   "source": [
    "### Tasks"
   ]
  },
  {
   "cell_type": "markdown",
   "metadata": {},
   "source": [
    "Investigate the weak and strong convergence of your method, applied to the problem above."
   ]
  },
  {
   "cell_type": "code",
   "execution_count": null,
   "metadata": {
    "collapsed": true
   },
   "outputs": [],
   "source": []
  }
 ],
 "metadata": {
  "kernelspec": {
   "display_name": "Python 3",
   "language": "python",
   "name": "python3"
  },
  "language_info": {
   "codemirror_mode": {
    "name": "ipython",
    "version": 3
   },
   "file_extension": ".py",
   "mimetype": "text/x-python",
   "name": "python",
   "nbconvert_exporter": "python",
   "pygments_lexer": "ipython3",
   "version": "3.4.5"
  }
 },
 "nbformat": 4,
 "nbformat_minor": 0
}
